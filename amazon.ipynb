{
 "cells": [
  {
   "cell_type": "code",
   "execution_count": 100,
   "id": "b02b1324",
   "metadata": {},
   "outputs": [],
   "source": [
    "import pandas as pd \n",
    "import numpy as np\n",
    "import matplotlib.pyplot as plt"
   ]
  },
  {
   "cell_type": "code",
   "execution_count": 101,
   "id": "1ae8dfaa",
   "metadata": {},
   "outputs": [
    {
     "data": {
      "text/html": [
       "<div>\n",
       "<style scoped>\n",
       "    .dataframe tbody tr th:only-of-type {\n",
       "        vertical-align: middle;\n",
       "    }\n",
       "\n",
       "    .dataframe tbody tr th {\n",
       "        vertical-align: top;\n",
       "    }\n",
       "\n",
       "    .dataframe thead th {\n",
       "        text-align: right;\n",
       "    }\n",
       "</style>\n",
       "<table border=\"1\" class=\"dataframe\">\n",
       "  <thead>\n",
       "    <tr style=\"text-align: right;\">\n",
       "      <th></th>\n",
       "      <th>show_id</th>\n",
       "      <th>type</th>\n",
       "      <th>title</th>\n",
       "      <th>director</th>\n",
       "      <th>cast</th>\n",
       "      <th>country</th>\n",
       "      <th>date_added</th>\n",
       "      <th>release_year</th>\n",
       "      <th>rating</th>\n",
       "      <th>duration</th>\n",
       "      <th>listed_in</th>\n",
       "      <th>description</th>\n",
       "    </tr>\n",
       "  </thead>\n",
       "  <tbody>\n",
       "    <tr>\n",
       "      <th>0</th>\n",
       "      <td>s1</td>\n",
       "      <td>Movie</td>\n",
       "      <td>The Grand Seduction</td>\n",
       "      <td>Don McKellar</td>\n",
       "      <td>Brendan Gleeson, Taylor Kitsch, Gordon Pinsent</td>\n",
       "      <td>Canada</td>\n",
       "      <td>March 30, 2021</td>\n",
       "      <td>2014</td>\n",
       "      <td>NaN</td>\n",
       "      <td>113 min</td>\n",
       "      <td>Comedy, Drama</td>\n",
       "      <td>A small fishing village must procure a local d...</td>\n",
       "    </tr>\n",
       "    <tr>\n",
       "      <th>1</th>\n",
       "      <td>s2</td>\n",
       "      <td>Movie</td>\n",
       "      <td>Take Care Good Night</td>\n",
       "      <td>Girish Joshi</td>\n",
       "      <td>Mahesh Manjrekar, Abhay Mahajan, Sachin Khedekar</td>\n",
       "      <td>India</td>\n",
       "      <td>March 30, 2021</td>\n",
       "      <td>2018</td>\n",
       "      <td>13+</td>\n",
       "      <td>110 min</td>\n",
       "      <td>Drama, International</td>\n",
       "      <td>A Metro Family decides to fight a Cyber Crimin...</td>\n",
       "    </tr>\n",
       "    <tr>\n",
       "      <th>2</th>\n",
       "      <td>s3</td>\n",
       "      <td>Movie</td>\n",
       "      <td>Secrets of Deception</td>\n",
       "      <td>Josh Webber</td>\n",
       "      <td>Tom Sizemore, Lorenzo Lamas, Robert LaSardo, R...</td>\n",
       "      <td>United States</td>\n",
       "      <td>March 30, 2021</td>\n",
       "      <td>2017</td>\n",
       "      <td>NaN</td>\n",
       "      <td>74 min</td>\n",
       "      <td>Action, Drama, Suspense</td>\n",
       "      <td>After a man discovers his wife is cheating on ...</td>\n",
       "    </tr>\n",
       "    <tr>\n",
       "      <th>3</th>\n",
       "      <td>s4</td>\n",
       "      <td>Movie</td>\n",
       "      <td>Pink: Staying True</td>\n",
       "      <td>Sonia Anderson</td>\n",
       "      <td>Interviews with: Pink, Adele, Beyoncé, Britney...</td>\n",
       "      <td>United States</td>\n",
       "      <td>March 30, 2021</td>\n",
       "      <td>2014</td>\n",
       "      <td>NaN</td>\n",
       "      <td>69 min</td>\n",
       "      <td>Documentary</td>\n",
       "      <td>Pink breaks the mold once again, bringing her ...</td>\n",
       "    </tr>\n",
       "    <tr>\n",
       "      <th>4</th>\n",
       "      <td>s5</td>\n",
       "      <td>Movie</td>\n",
       "      <td>Monster Maker</td>\n",
       "      <td>Giles Foster</td>\n",
       "      <td>Harry Dean Stanton, Kieran O'Brien, George Cos...</td>\n",
       "      <td>United Kingdom</td>\n",
       "      <td>March 30, 2021</td>\n",
       "      <td>1989</td>\n",
       "      <td>NaN</td>\n",
       "      <td>45 min</td>\n",
       "      <td>Drama, Fantasy</td>\n",
       "      <td>Teenage Matt Banting wants to work with a famo...</td>\n",
       "    </tr>\n",
       "  </tbody>\n",
       "</table>\n",
       "</div>"
      ],
      "text/plain": [
       "  show_id   type                 title        director  \\\n",
       "0      s1  Movie   The Grand Seduction    Don McKellar   \n",
       "1      s2  Movie  Take Care Good Night    Girish Joshi   \n",
       "2      s3  Movie  Secrets of Deception     Josh Webber   \n",
       "3      s4  Movie    Pink: Staying True  Sonia Anderson   \n",
       "4      s5  Movie         Monster Maker    Giles Foster   \n",
       "\n",
       "                                                cast         country  \\\n",
       "0     Brendan Gleeson, Taylor Kitsch, Gordon Pinsent          Canada   \n",
       "1   Mahesh Manjrekar, Abhay Mahajan, Sachin Khedekar           India   \n",
       "2  Tom Sizemore, Lorenzo Lamas, Robert LaSardo, R...   United States   \n",
       "3  Interviews with: Pink, Adele, Beyoncé, Britney...   United States   \n",
       "4  Harry Dean Stanton, Kieran O'Brien, George Cos...  United Kingdom   \n",
       "\n",
       "       date_added  release_year rating duration                listed_in  \\\n",
       "0  March 30, 2021          2014    NaN  113 min            Comedy, Drama   \n",
       "1  March 30, 2021          2018    13+  110 min     Drama, International   \n",
       "2  March 30, 2021          2017    NaN   74 min  Action, Drama, Suspense   \n",
       "3  March 30, 2021          2014    NaN   69 min              Documentary   \n",
       "4  March 30, 2021          1989    NaN   45 min           Drama, Fantasy   \n",
       "\n",
       "                                         description  \n",
       "0  A small fishing village must procure a local d...  \n",
       "1  A Metro Family decides to fight a Cyber Crimin...  \n",
       "2  After a man discovers his wife is cheating on ...  \n",
       "3  Pink breaks the mold once again, bringing her ...  \n",
       "4  Teenage Matt Banting wants to work with a famo...  "
      ]
     },
     "execution_count": 101,
     "metadata": {},
     "output_type": "execute_result"
    }
   ],
   "source": [
    "amz = pd.read_csv('amazon_prime_titles.csv')\n",
    "amz.head()"
   ]
  },
  {
   "cell_type": "code",
   "execution_count": 102,
   "id": "84dcd3b8",
   "metadata": {},
   "outputs": [
    {
     "name": "stdout",
     "output_type": "stream",
     "text": [
      "<class 'pandas.core.frame.DataFrame'>\n",
      "RangeIndex: 9668 entries, 0 to 9667\n",
      "Data columns (total 12 columns):\n",
      " #   Column        Non-Null Count  Dtype \n",
      "---  ------        --------------  ----- \n",
      " 0   show_id       9668 non-null   object\n",
      " 1   type          9668 non-null   object\n",
      " 2   title         9668 non-null   object\n",
      " 3   director      7585 non-null   object\n",
      " 4   cast          8435 non-null   object\n",
      " 5   country       672 non-null    object\n",
      " 6   date_added    155 non-null    object\n",
      " 7   release_year  9668 non-null   int64 \n",
      " 8   rating        9331 non-null   object\n",
      " 9   duration      9668 non-null   object\n",
      " 10  listed_in     9668 non-null   object\n",
      " 11  description   9668 non-null   object\n",
      "dtypes: int64(1), object(11)\n",
      "memory usage: 906.5+ KB\n"
     ]
    }
   ],
   "source": [
    "amz.info()"
   ]
  },
  {
   "cell_type": "markdown",
   "id": "978786d4",
   "metadata": {},
   "source": [
    "## Director"
   ]
  },
  {
   "cell_type": "code",
   "execution_count": 103,
   "id": "08410a96",
   "metadata": {},
   "outputs": [
    {
     "data": {
      "text/plain": [
       "np.int64(2083)"
      ]
     },
     "execution_count": 103,
     "metadata": {},
     "output_type": "execute_result"
    }
   ],
   "source": [
    "# How should missing or empty values in columns like 'director', 'cast', 'country', and 'rating'\n",
    "#  be handled to ensure they do not skew category-based aggregations or comparisons?\n",
    "amz['director'].isnull().sum()"
   ]
  },
  {
   "cell_type": "code",
   "execution_count": 104,
   "id": "d6f9f864",
   "metadata": {},
   "outputs": [
    {
     "data": {
      "text/plain": [
       "Index([  20,   25,   33,   34,   70,   72,   74,   76,   77,   78,\n",
       "       ...\n",
       "       9559, 9564, 9586, 9612, 9622, 9636, 9637, 9645, 9647, 9658],\n",
       "      dtype='int64', length=1233)"
      ]
     },
     "execution_count": 104,
     "metadata": {},
     "output_type": "execute_result"
    }
   ],
   "source": [
    "amz[amz['cast'].isnull()].index"
   ]
  },
  {
   "cell_type": "code",
   "execution_count": 105,
   "id": "52e0c22b",
   "metadata": {},
   "outputs": [
    {
     "data": {
      "text/plain": [
       "show_id                                                       s34\n",
       "type                                                        Movie\n",
       "title                             Young Love (at the Sun Factory)\n",
       "director                                                      NaN\n",
       "cast                                                          NaN\n",
       "country                                                       NaN\n",
       "date_added                                                    NaN\n",
       "release_year                                                 2007\n",
       "rating                                                         NR\n",
       "duration                                                   36 min\n",
       "listed_in                               Music Videos and Concerts\n",
       "description     Young Love celebrates the release of \"Too Youn...\n",
       "Name: 33, dtype: object"
      ]
     },
     "execution_count": 105,
     "metadata": {},
     "output_type": "execute_result"
    }
   ],
   "source": [
    "amz.iloc[33]\n"
   ]
  },
  {
   "cell_type": "code",
   "execution_count": 106,
   "id": "e0104355",
   "metadata": {},
   "outputs": [
    {
     "data": {
      "text/plain": [
       "Index([  17,   18,   20,   21,   23,   26,   27,   28,   29,   30,\n",
       "       ...\n",
       "       9637, 9642, 9645, 9647, 9651, 9655, 9658, 9661, 9664, 9666],\n",
       "      dtype='int64', length=2083)"
      ]
     },
     "execution_count": 106,
     "metadata": {},
     "output_type": "execute_result"
    }
   ],
   "source": [
    "amz[amz['director'].isnull()].index"
   ]
  },
  {
   "cell_type": "code",
   "execution_count": 107,
   "id": "b5f09e11",
   "metadata": {},
   "outputs": [
    {
     "data": {
      "text/plain": [
       "86"
      ]
     },
     "execution_count": 107,
     "metadata": {},
     "output_type": "execute_result"
    }
   ],
   "source": [
    "amz['country'].nunique()"
   ]
  },
  {
   "cell_type": "markdown",
   "id": "09148149",
   "metadata": {},
   "source": [
    "### CAST\n"
   ]
  },
  {
   "cell_type": "code",
   "execution_count": 108,
   "id": "75cecd2f",
   "metadata": {},
   "outputs": [
    {
     "name": "stdout",
     "output_type": "stream",
     "text": [
      "   show_id     type                             title            director  \\\n",
      "20     s21  TV Show                        Zoboomafoo                 NaN   \n",
      "25     s26    Movie            Zambezi: Force of Life  Dr. Rudolf Lammers   \n",
      "33     s34    Movie   Young Love (at the Sun Factory)                 NaN   \n",
      "34     s35    Movie   Young Love (at Bowery Ballroom)                 NaN   \n",
      "70     s71    Movie  World Inferno Friendship Society        Baeble Music   \n",
      "\n",
      "   cast country date_added  release_year rating  duration  \\\n",
      "20  NaN     NaN        NaN          2001   TV-Y  1 Season   \n",
      "25  NaN     NaN        NaN          2005    ALL    50 min   \n",
      "33  NaN     NaN        NaN          2007     NR    36 min   \n",
      "34  NaN     NaN        NaN          2007     NR    37 min   \n",
      "70  NaN     NaN        NaN          2007     NR    40 min   \n",
      "\n",
      "                    listed_in  \\\n",
      "20                       Kids   \n",
      "25                Documentary   \n",
      "33  Music Videos and Concerts   \n",
      "34  Music Videos and Concerts   \n",
      "70  Music Videos and Concerts   \n",
      "\n",
      "                                          description  \n",
      "20  Chris and Martin Kratt bring their enthusiasm ...  \n",
      "25  The Zambezi river is the fourth-longest river ...  \n",
      "33  Young Love celebrates the release of \"Too Youn...  \n",
      "34  Young Love returns to Baeble's silver screen w...  \n",
      "70  The circus comes to town with this performance...  \n"
     ]
    }
   ],
   "source": [
    "missing_rows = amz[amz['cast'].isnull()]\n",
    "print(missing_rows.head())\n"
   ]
  },
  {
   "cell_type": "markdown",
   "id": "7a644a61",
   "metadata": {},
   "source": [
    "### Date Added\n"
   ]
  },
  {
   "cell_type": "code",
   "execution_count": 109,
   "id": "04c01d82",
   "metadata": {},
   "outputs": [
    {
     "data": {
      "text/plain": [
       "0       March 30, 2021\n",
       "1       March 30, 2021\n",
       "2       March 30, 2021\n",
       "3       March 30, 2021\n",
       "4       March 30, 2021\n",
       "             ...      \n",
       "9663               NaN\n",
       "9664               NaN\n",
       "9665               NaN\n",
       "9666               NaN\n",
       "9667               NaN\n",
       "Name: date_added, Length: 9668, dtype: object"
      ]
     },
     "execution_count": 109,
     "metadata": {},
     "output_type": "execute_result"
    }
   ],
   "source": [
    "amz['date_added']"
   ]
  },
  {
   "cell_type": "code",
   "execution_count": 110,
   "id": "9489bdb2",
   "metadata": {},
   "outputs": [
    {
     "data": {
      "text/plain": [
       "dtype('O')"
      ]
     },
     "execution_count": 110,
     "metadata": {},
     "output_type": "execute_result"
    }
   ],
   "source": [
    "amz['date_added'].dtype\n"
   ]
  },
  {
   "cell_type": "code",
   "execution_count": 111,
   "id": "fb6a2ae2",
   "metadata": {},
   "outputs": [
    {
     "data": {
      "text/plain": [
       "dtype('<M8[ns]')"
      ]
     },
     "execution_count": 111,
     "metadata": {},
     "output_type": "execute_result"
    }
   ],
   "source": [
    "## date_added convert to datetime\n",
    "amz['date_added'] = pd.to_datetime(amz['date_added'], errors = 'coerce')\n",
    "amz['date_added'].dtype\n"
   ]
  },
  {
   "cell_type": "code",
   "execution_count": 112,
   "id": "f486d2cf",
   "metadata": {},
   "outputs": [
    {
     "data": {
      "text/plain": [
       "np.int64(9513)"
      ]
     },
     "execution_count": 112,
     "metadata": {},
     "output_type": "execute_result"
    }
   ],
   "source": [
    "amz['date_added'].isnull().sum()"
   ]
  },
  {
   "cell_type": "code",
   "execution_count": 113,
   "id": "cd0726de",
   "metadata": {},
   "outputs": [],
   "source": [
    "## impute missing values using 'Unknown'\n",
    "amz.fillna({'director': 'Unknown', 'cast':'Unknown'}, inplace=True)"
   ]
  },
  {
   "cell_type": "code",
   "execution_count": 114,
   "id": "7c89936c",
   "metadata": {},
   "outputs": [],
   "source": [
    "## Drop 'Country' and 'date_added' columns\n",
    "amz.drop(columns = ['country', 'date_added'], inplace=True)"
   ]
  },
  {
   "cell_type": "markdown",
   "id": "d15645fa",
   "metadata": {},
   "source": [
    "## Rating"
   ]
  },
  {
   "cell_type": "code",
   "execution_count": 115,
   "id": "1da6314a",
   "metadata": {},
   "outputs": [
    {
     "data": {
      "text/plain": [
       "rating\n",
       "13+         2117\n",
       "16+         1547\n",
       "ALL         1268\n",
       "18+         1243\n",
       "R           1010\n",
       "PG-13        393\n",
       "7+           385\n",
       "PG           253\n",
       "NR           223\n",
       "TV-14        208\n",
       "TV-PG        169\n",
       "TV-NR        105\n",
       "G             93\n",
       "TV-G          81\n",
       "TV-MA         77\n",
       "TV-Y          74\n",
       "TV-Y7         39\n",
       "UNRATED       33\n",
       "NC-17          3\n",
       "AGES_18_       3\n",
       "NOT_RATE       3\n",
       "AGES_16_       2\n",
       "16             1\n",
       "ALL_AGES       1\n",
       "Name: count, dtype: int64"
      ]
     },
     "execution_count": 115,
     "metadata": {},
     "output_type": "execute_result"
    }
   ],
   "source": [
    "amz['rating'].value_counts()"
   ]
  },
  {
   "cell_type": "code",
   "execution_count": 116,
   "id": "635987a2",
   "metadata": {},
   "outputs": [],
   "source": [
    "rating_map = {'AGES_16': \"16+\",\n",
    "              \"16\":\"16+\",\n",
    "              \"AGES_16_\":\"16+\",\n",
    "              'AGES_18_':\"18+\",\n",
    "              \"ALL_AGES\":\"ALL\",\n",
    "              \"NOT_RATE\":\"NR\",\n",
    "              \"UNRATED\":\"NR\",\n",
    "              \"NC-17\":\"17+\",\n",
    "              \"TV-NR\":\"NR\"\n",
    "}\n",
    "\n",
    "amz['rating'] = amz['rating'].replace(rating_map)"
   ]
  },
  {
   "cell_type": "code",
   "execution_count": 117,
   "id": "baa1e66d",
   "metadata": {},
   "outputs": [
    {
     "data": {
      "text/plain": [
       "array([nan, '13+', 'ALL', '18+', 'R', 'TV-Y', 'TV-Y7', 'NR', '16+',\n",
       "       'TV-PG', '7+', 'TV-14', 'TV-G', 'PG-13', 'TV-MA', 'G', 'PG', '17+'],\n",
       "      dtype=object)"
      ]
     },
     "execution_count": 117,
     "metadata": {},
     "output_type": "execute_result"
    }
   ],
   "source": [
    "amz['rating'].unique()"
   ]
  },
  {
   "cell_type": "code",
   "execution_count": 118,
   "id": "98be6c80",
   "metadata": {},
   "outputs": [
    {
     "name": "stderr",
     "output_type": "stream",
     "text": [
      "/var/folders/g2/z2xpfp7x5hvgkf6rx1kgrx4w0000gn/T/ipykernel_72793/3575080950.py:1: FutureWarning: A value is trying to be set on a copy of a DataFrame or Series through chained assignment using an inplace method.\n",
      "The behavior will change in pandas 3.0. This inplace method will never work because the intermediate object on which we are setting values always behaves as a copy.\n",
      "\n",
      "For example, when doing 'df[col].method(value, inplace=True)', try using 'df.method({col: value}, inplace=True)' or df[col] = df[col].method(value) instead, to perform the operation inplace on the original object.\n",
      "\n",
      "\n",
      "  amz['rating'].fillna('NR', inplace=True)\n"
     ]
    }
   ],
   "source": [
    "amz['rating'].fillna('NR', inplace=True)"
   ]
  },
  {
   "cell_type": "code",
   "execution_count": 119,
   "id": "3efdfe28",
   "metadata": {},
   "outputs": [
    {
     "name": "stdout",
     "output_type": "stream",
     "text": [
      "show_id         0.0\n",
      "type            0.0\n",
      "title           0.0\n",
      "director        0.0\n",
      "cast            0.0\n",
      "release_year    0.0\n",
      "rating          0.0\n",
      "duration        0.0\n",
      "listed_in       0.0\n",
      "description     0.0\n",
      "dtype: float64\n"
     ]
    }
   ],
   "source": [
    "# Calculate missing values count and percentage for each column\n",
    "missing_percent = (amz.isnull().sum() / len(amz)) * 100\n",
    "print(missing_percent)\n"
   ]
  },
  {
   "cell_type": "code",
   "execution_count": 120,
   "id": "71a6bf77",
   "metadata": {},
   "outputs": [
    {
     "name": "stdout",
     "output_type": "stream",
     "text": [
      "<class 'pandas.core.frame.DataFrame'>\n",
      "RangeIndex: 9668 entries, 0 to 9667\n",
      "Data columns (total 10 columns):\n",
      " #   Column        Non-Null Count  Dtype \n",
      "---  ------        --------------  ----- \n",
      " 0   show_id       9668 non-null   object\n",
      " 1   type          9668 non-null   object\n",
      " 2   title         9668 non-null   object\n",
      " 3   director      9668 non-null   object\n",
      " 4   cast          9668 non-null   object\n",
      " 5   release_year  9668 non-null   int64 \n",
      " 6   rating        9668 non-null   object\n",
      " 7   duration      9668 non-null   object\n",
      " 8   listed_in     9668 non-null   object\n",
      " 9   description   9668 non-null   object\n",
      "dtypes: int64(1), object(9)\n",
      "memory usage: 755.4+ KB\n"
     ]
    }
   ],
   "source": [
    "amz.info()"
   ]
  },
  {
   "cell_type": "markdown",
   "id": "8620d5c3",
   "metadata": {},
   "source": [
    "### Analysis"
   ]
  },
  {
   "cell_type": "code",
   "execution_count": 121,
   "id": "58e9d801",
   "metadata": {},
   "outputs": [
    {
     "data": {
      "text/html": [
       "<div>\n",
       "<style scoped>\n",
       "    .dataframe tbody tr th:only-of-type {\n",
       "        vertical-align: middle;\n",
       "    }\n",
       "\n",
       "    .dataframe tbody tr th {\n",
       "        vertical-align: top;\n",
       "    }\n",
       "\n",
       "    .dataframe thead th {\n",
       "        text-align: right;\n",
       "    }\n",
       "</style>\n",
       "<table border=\"1\" class=\"dataframe\">\n",
       "  <thead>\n",
       "    <tr style=\"text-align: right;\">\n",
       "      <th></th>\n",
       "      <th>show_id</th>\n",
       "      <th>type</th>\n",
       "      <th>title</th>\n",
       "      <th>director</th>\n",
       "      <th>cast</th>\n",
       "      <th>release_year</th>\n",
       "      <th>rating</th>\n",
       "      <th>duration</th>\n",
       "      <th>listed_in</th>\n",
       "      <th>description</th>\n",
       "    </tr>\n",
       "  </thead>\n",
       "  <tbody>\n",
       "    <tr>\n",
       "      <th>0</th>\n",
       "      <td>s1</td>\n",
       "      <td>Movie</td>\n",
       "      <td>The Grand Seduction</td>\n",
       "      <td>Don McKellar</td>\n",
       "      <td>Brendan Gleeson, Taylor Kitsch, Gordon Pinsent</td>\n",
       "      <td>2014</td>\n",
       "      <td>NR</td>\n",
       "      <td>113 min</td>\n",
       "      <td>Comedy, Drama</td>\n",
       "      <td>A small fishing village must procure a local d...</td>\n",
       "    </tr>\n",
       "    <tr>\n",
       "      <th>1</th>\n",
       "      <td>s2</td>\n",
       "      <td>Movie</td>\n",
       "      <td>Take Care Good Night</td>\n",
       "      <td>Girish Joshi</td>\n",
       "      <td>Mahesh Manjrekar, Abhay Mahajan, Sachin Khedekar</td>\n",
       "      <td>2018</td>\n",
       "      <td>13+</td>\n",
       "      <td>110 min</td>\n",
       "      <td>Drama, International</td>\n",
       "      <td>A Metro Family decides to fight a Cyber Crimin...</td>\n",
       "    </tr>\n",
       "    <tr>\n",
       "      <th>2</th>\n",
       "      <td>s3</td>\n",
       "      <td>Movie</td>\n",
       "      <td>Secrets of Deception</td>\n",
       "      <td>Josh Webber</td>\n",
       "      <td>Tom Sizemore, Lorenzo Lamas, Robert LaSardo, R...</td>\n",
       "      <td>2017</td>\n",
       "      <td>NR</td>\n",
       "      <td>74 min</td>\n",
       "      <td>Action, Drama, Suspense</td>\n",
       "      <td>After a man discovers his wife is cheating on ...</td>\n",
       "    </tr>\n",
       "    <tr>\n",
       "      <th>3</th>\n",
       "      <td>s4</td>\n",
       "      <td>Movie</td>\n",
       "      <td>Pink: Staying True</td>\n",
       "      <td>Sonia Anderson</td>\n",
       "      <td>Interviews with: Pink, Adele, Beyoncé, Britney...</td>\n",
       "      <td>2014</td>\n",
       "      <td>NR</td>\n",
       "      <td>69 min</td>\n",
       "      <td>Documentary</td>\n",
       "      <td>Pink breaks the mold once again, bringing her ...</td>\n",
       "    </tr>\n",
       "    <tr>\n",
       "      <th>4</th>\n",
       "      <td>s5</td>\n",
       "      <td>Movie</td>\n",
       "      <td>Monster Maker</td>\n",
       "      <td>Giles Foster</td>\n",
       "      <td>Harry Dean Stanton, Kieran O'Brien, George Cos...</td>\n",
       "      <td>1989</td>\n",
       "      <td>NR</td>\n",
       "      <td>45 min</td>\n",
       "      <td>Drama, Fantasy</td>\n",
       "      <td>Teenage Matt Banting wants to work with a famo...</td>\n",
       "    </tr>\n",
       "    <tr>\n",
       "      <th>...</th>\n",
       "      <td>...</td>\n",
       "      <td>...</td>\n",
       "      <td>...</td>\n",
       "      <td>...</td>\n",
       "      <td>...</td>\n",
       "      <td>...</td>\n",
       "      <td>...</td>\n",
       "      <td>...</td>\n",
       "      <td>...</td>\n",
       "      <td>...</td>\n",
       "    </tr>\n",
       "    <tr>\n",
       "      <th>9663</th>\n",
       "      <td>s9664</td>\n",
       "      <td>Movie</td>\n",
       "      <td>Pride Of The Bowery</td>\n",
       "      <td>Joseph H. Lewis</td>\n",
       "      <td>Leo Gorcey, Bobby Jordan</td>\n",
       "      <td>1940</td>\n",
       "      <td>7+</td>\n",
       "      <td>60 min</td>\n",
       "      <td>Comedy</td>\n",
       "      <td>New York City street principles get an East Si...</td>\n",
       "    </tr>\n",
       "    <tr>\n",
       "      <th>9664</th>\n",
       "      <td>s9665</td>\n",
       "      <td>TV Show</td>\n",
       "      <td>Planet Patrol</td>\n",
       "      <td>Unknown</td>\n",
       "      <td>DICK VOSBURGH, RONNIE STEVENS, LIBBY MORRIS, M...</td>\n",
       "      <td>2018</td>\n",
       "      <td>13+</td>\n",
       "      <td>4 Seasons</td>\n",
       "      <td>TV Shows</td>\n",
       "      <td>This is Earth, 2100AD - and these are the adve...</td>\n",
       "    </tr>\n",
       "    <tr>\n",
       "      <th>9665</th>\n",
       "      <td>s9666</td>\n",
       "      <td>Movie</td>\n",
       "      <td>Outpost</td>\n",
       "      <td>Steve Barker</td>\n",
       "      <td>Ray Stevenson, Julian Wadham, Richard Brake, M...</td>\n",
       "      <td>2008</td>\n",
       "      <td>R</td>\n",
       "      <td>90 min</td>\n",
       "      <td>Action</td>\n",
       "      <td>In war-torn Eastern Europe, a world-weary grou...</td>\n",
       "    </tr>\n",
       "    <tr>\n",
       "      <th>9666</th>\n",
       "      <td>s9667</td>\n",
       "      <td>TV Show</td>\n",
       "      <td>Maradona: Blessed Dream</td>\n",
       "      <td>Unknown</td>\n",
       "      <td>Esteban Recagno, Ezequiel Stremiz, Luciano Vit...</td>\n",
       "      <td>2021</td>\n",
       "      <td>TV-MA</td>\n",
       "      <td>1 Season</td>\n",
       "      <td>Drama, Sports</td>\n",
       "      <td>The series tells the story of Diego Maradona, ...</td>\n",
       "    </tr>\n",
       "    <tr>\n",
       "      <th>9667</th>\n",
       "      <td>s9668</td>\n",
       "      <td>Movie</td>\n",
       "      <td>Harry Brown</td>\n",
       "      <td>Daniel Barber</td>\n",
       "      <td>Michael Caine, Emily Mortimer, Joseph Gilgun, ...</td>\n",
       "      <td>2010</td>\n",
       "      <td>R</td>\n",
       "      <td>103 min</td>\n",
       "      <td>Action, Drama, Suspense</td>\n",
       "      <td>Harry Brown, starring two-time Academy Award w...</td>\n",
       "    </tr>\n",
       "  </tbody>\n",
       "</table>\n",
       "<p>9668 rows × 10 columns</p>\n",
       "</div>"
      ],
      "text/plain": [
       "     show_id     type                    title         director  \\\n",
       "0         s1    Movie      The Grand Seduction     Don McKellar   \n",
       "1         s2    Movie     Take Care Good Night     Girish Joshi   \n",
       "2         s3    Movie     Secrets of Deception      Josh Webber   \n",
       "3         s4    Movie       Pink: Staying True   Sonia Anderson   \n",
       "4         s5    Movie            Monster Maker     Giles Foster   \n",
       "...      ...      ...                      ...              ...   \n",
       "9663   s9664    Movie      Pride Of The Bowery  Joseph H. Lewis   \n",
       "9664   s9665  TV Show            Planet Patrol          Unknown   \n",
       "9665   s9666    Movie                  Outpost     Steve Barker   \n",
       "9666   s9667  TV Show  Maradona: Blessed Dream          Unknown   \n",
       "9667   s9668    Movie              Harry Brown    Daniel Barber   \n",
       "\n",
       "                                                   cast  release_year rating  \\\n",
       "0        Brendan Gleeson, Taylor Kitsch, Gordon Pinsent          2014     NR   \n",
       "1      Mahesh Manjrekar, Abhay Mahajan, Sachin Khedekar          2018    13+   \n",
       "2     Tom Sizemore, Lorenzo Lamas, Robert LaSardo, R...          2017     NR   \n",
       "3     Interviews with: Pink, Adele, Beyoncé, Britney...          2014     NR   \n",
       "4     Harry Dean Stanton, Kieran O'Brien, George Cos...          1989     NR   \n",
       "...                                                 ...           ...    ...   \n",
       "9663                           Leo Gorcey, Bobby Jordan          1940     7+   \n",
       "9664  DICK VOSBURGH, RONNIE STEVENS, LIBBY MORRIS, M...          2018    13+   \n",
       "9665  Ray Stevenson, Julian Wadham, Richard Brake, M...          2008      R   \n",
       "9666  Esteban Recagno, Ezequiel Stremiz, Luciano Vit...          2021  TV-MA   \n",
       "9667  Michael Caine, Emily Mortimer, Joseph Gilgun, ...          2010      R   \n",
       "\n",
       "       duration                listed_in  \\\n",
       "0       113 min            Comedy, Drama   \n",
       "1       110 min     Drama, International   \n",
       "2        74 min  Action, Drama, Suspense   \n",
       "3        69 min              Documentary   \n",
       "4        45 min           Drama, Fantasy   \n",
       "...         ...                      ...   \n",
       "9663     60 min                   Comedy   \n",
       "9664  4 Seasons                 TV Shows   \n",
       "9665     90 min                   Action   \n",
       "9666   1 Season            Drama, Sports   \n",
       "9667    103 min  Action, Drama, Suspense   \n",
       "\n",
       "                                            description  \n",
       "0     A small fishing village must procure a local d...  \n",
       "1     A Metro Family decides to fight a Cyber Crimin...  \n",
       "2     After a man discovers his wife is cheating on ...  \n",
       "3     Pink breaks the mold once again, bringing her ...  \n",
       "4     Teenage Matt Banting wants to work with a famo...  \n",
       "...                                                 ...  \n",
       "9663  New York City street principles get an East Si...  \n",
       "9664  This is Earth, 2100AD - and these are the adve...  \n",
       "9665  In war-torn Eastern Europe, a world-weary grou...  \n",
       "9666  The series tells the story of Diego Maradona, ...  \n",
       "9667  Harry Brown, starring two-time Academy Award w...  \n",
       "\n",
       "[9668 rows x 10 columns]"
      ]
     },
     "execution_count": 121,
     "metadata": {},
     "output_type": "execute_result"
    }
   ],
   "source": [
    "amz"
   ]
  },
  {
   "cell_type": "code",
   "execution_count": 122,
   "id": "db823d7f",
   "metadata": {},
   "outputs": [
    {
     "data": {
      "text/plain": [
       "type\n",
       "Movie      7814\n",
       "TV Show    1854\n",
       "Name: count, dtype: int64"
      ]
     },
     "execution_count": 122,
     "metadata": {},
     "output_type": "execute_result"
    }
   ],
   "source": [
    "amz['type'].value_counts()"
   ]
  },
  {
   "cell_type": "code",
   "execution_count": 123,
   "id": "7bda7874",
   "metadata": {},
   "outputs": [
    {
     "data": {
      "text/plain": [
       "0                 Comedy, Drama\n",
       "1          Drama, International\n",
       "2       Action, Drama, Suspense\n",
       "3                   Documentary\n",
       "4                Drama, Fantasy\n",
       "                 ...           \n",
       "9663                     Comedy\n",
       "9664                   TV Shows\n",
       "9665                     Action\n",
       "9666              Drama, Sports\n",
       "9667    Action, Drama, Suspense\n",
       "Name: listed_in, Length: 9668, dtype: object"
      ]
     },
     "execution_count": 123,
     "metadata": {},
     "output_type": "execute_result"
    }
   ],
   "source": [
    "amz['listed_in']"
   ]
  },
  {
   "cell_type": "code",
   "execution_count": 124,
   "id": "c1aa7b2d",
   "metadata": {},
   "outputs": [],
   "source": [
    "# 1️⃣ Clean whitespace and lowercase\n",
    "amz['listed_in'] = amz['listed_in'].str.strip().str.lower()"
   ]
  },
  {
   "cell_type": "code",
   "execution_count": 125,
   "id": "d37bda3c",
   "metadata": {},
   "outputs": [
    {
     "data": {
      "text/plain": [
       "0                 comedy, drama\n",
       "1          drama, international\n",
       "2       action, drama, suspense\n",
       "3                   documentary\n",
       "4                drama, fantasy\n",
       "                 ...           \n",
       "9663                     comedy\n",
       "9664                   tv shows\n",
       "9665                     action\n",
       "9666              drama, sports\n",
       "9667    action, drama, suspense\n",
       "Name: listed_in, Length: 9668, dtype: object"
      ]
     },
     "execution_count": 125,
     "metadata": {},
     "output_type": "execute_result"
    }
   ],
   "source": [
    "amz['listed_in']"
   ]
  },
  {
   "cell_type": "code",
   "execution_count": 126,
   "id": "4f003516",
   "metadata": {},
   "outputs": [],
   "source": [
    "# Split into multiple genres (creates a list in each row)\n",
    "amz['listed_in_split'] = amz['listed_in'].str.split(', ')"
   ]
  },
  {
   "cell_type": "code",
   "execution_count": 127,
   "id": "67410fcf",
   "metadata": {},
   "outputs": [
    {
     "data": {
      "text/html": [
       "<div>\n",
       "<style scoped>\n",
       "    .dataframe tbody tr th:only-of-type {\n",
       "        vertical-align: middle;\n",
       "    }\n",
       "\n",
       "    .dataframe tbody tr th {\n",
       "        vertical-align: top;\n",
       "    }\n",
       "\n",
       "    .dataframe thead th {\n",
       "        text-align: right;\n",
       "    }\n",
       "</style>\n",
       "<table border=\"1\" class=\"dataframe\">\n",
       "  <thead>\n",
       "    <tr style=\"text-align: right;\">\n",
       "      <th></th>\n",
       "      <th>show_id</th>\n",
       "      <th>type</th>\n",
       "      <th>title</th>\n",
       "      <th>director</th>\n",
       "      <th>cast</th>\n",
       "      <th>release_year</th>\n",
       "      <th>rating</th>\n",
       "      <th>duration</th>\n",
       "      <th>listed_in</th>\n",
       "      <th>description</th>\n",
       "      <th>listed_in_split</th>\n",
       "    </tr>\n",
       "  </thead>\n",
       "  <tbody>\n",
       "    <tr>\n",
       "      <th>0</th>\n",
       "      <td>s1</td>\n",
       "      <td>Movie</td>\n",
       "      <td>The Grand Seduction</td>\n",
       "      <td>Don McKellar</td>\n",
       "      <td>Brendan Gleeson, Taylor Kitsch, Gordon Pinsent</td>\n",
       "      <td>2014</td>\n",
       "      <td>NR</td>\n",
       "      <td>113 min</td>\n",
       "      <td>comedy, drama</td>\n",
       "      <td>A small fishing village must procure a local d...</td>\n",
       "      <td>[comedy, drama]</td>\n",
       "    </tr>\n",
       "    <tr>\n",
       "      <th>1</th>\n",
       "      <td>s2</td>\n",
       "      <td>Movie</td>\n",
       "      <td>Take Care Good Night</td>\n",
       "      <td>Girish Joshi</td>\n",
       "      <td>Mahesh Manjrekar, Abhay Mahajan, Sachin Khedekar</td>\n",
       "      <td>2018</td>\n",
       "      <td>13+</td>\n",
       "      <td>110 min</td>\n",
       "      <td>drama, international</td>\n",
       "      <td>A Metro Family decides to fight a Cyber Crimin...</td>\n",
       "      <td>[drama, international]</td>\n",
       "    </tr>\n",
       "    <tr>\n",
       "      <th>2</th>\n",
       "      <td>s3</td>\n",
       "      <td>Movie</td>\n",
       "      <td>Secrets of Deception</td>\n",
       "      <td>Josh Webber</td>\n",
       "      <td>Tom Sizemore, Lorenzo Lamas, Robert LaSardo, R...</td>\n",
       "      <td>2017</td>\n",
       "      <td>NR</td>\n",
       "      <td>74 min</td>\n",
       "      <td>action, drama, suspense</td>\n",
       "      <td>After a man discovers his wife is cheating on ...</td>\n",
       "      <td>[action, drama, suspense]</td>\n",
       "    </tr>\n",
       "    <tr>\n",
       "      <th>3</th>\n",
       "      <td>s4</td>\n",
       "      <td>Movie</td>\n",
       "      <td>Pink: Staying True</td>\n",
       "      <td>Sonia Anderson</td>\n",
       "      <td>Interviews with: Pink, Adele, Beyoncé, Britney...</td>\n",
       "      <td>2014</td>\n",
       "      <td>NR</td>\n",
       "      <td>69 min</td>\n",
       "      <td>documentary</td>\n",
       "      <td>Pink breaks the mold once again, bringing her ...</td>\n",
       "      <td>[documentary]</td>\n",
       "    </tr>\n",
       "    <tr>\n",
       "      <th>4</th>\n",
       "      <td>s5</td>\n",
       "      <td>Movie</td>\n",
       "      <td>Monster Maker</td>\n",
       "      <td>Giles Foster</td>\n",
       "      <td>Harry Dean Stanton, Kieran O'Brien, George Cos...</td>\n",
       "      <td>1989</td>\n",
       "      <td>NR</td>\n",
       "      <td>45 min</td>\n",
       "      <td>drama, fantasy</td>\n",
       "      <td>Teenage Matt Banting wants to work with a famo...</td>\n",
       "      <td>[drama, fantasy]</td>\n",
       "    </tr>\n",
       "    <tr>\n",
       "      <th>...</th>\n",
       "      <td>...</td>\n",
       "      <td>...</td>\n",
       "      <td>...</td>\n",
       "      <td>...</td>\n",
       "      <td>...</td>\n",
       "      <td>...</td>\n",
       "      <td>...</td>\n",
       "      <td>...</td>\n",
       "      <td>...</td>\n",
       "      <td>...</td>\n",
       "      <td>...</td>\n",
       "    </tr>\n",
       "    <tr>\n",
       "      <th>9663</th>\n",
       "      <td>s9664</td>\n",
       "      <td>Movie</td>\n",
       "      <td>Pride Of The Bowery</td>\n",
       "      <td>Joseph H. Lewis</td>\n",
       "      <td>Leo Gorcey, Bobby Jordan</td>\n",
       "      <td>1940</td>\n",
       "      <td>7+</td>\n",
       "      <td>60 min</td>\n",
       "      <td>comedy</td>\n",
       "      <td>New York City street principles get an East Si...</td>\n",
       "      <td>[comedy]</td>\n",
       "    </tr>\n",
       "    <tr>\n",
       "      <th>9664</th>\n",
       "      <td>s9665</td>\n",
       "      <td>TV Show</td>\n",
       "      <td>Planet Patrol</td>\n",
       "      <td>Unknown</td>\n",
       "      <td>DICK VOSBURGH, RONNIE STEVENS, LIBBY MORRIS, M...</td>\n",
       "      <td>2018</td>\n",
       "      <td>13+</td>\n",
       "      <td>4 Seasons</td>\n",
       "      <td>tv shows</td>\n",
       "      <td>This is Earth, 2100AD - and these are the adve...</td>\n",
       "      <td>[tv shows]</td>\n",
       "    </tr>\n",
       "    <tr>\n",
       "      <th>9665</th>\n",
       "      <td>s9666</td>\n",
       "      <td>Movie</td>\n",
       "      <td>Outpost</td>\n",
       "      <td>Steve Barker</td>\n",
       "      <td>Ray Stevenson, Julian Wadham, Richard Brake, M...</td>\n",
       "      <td>2008</td>\n",
       "      <td>R</td>\n",
       "      <td>90 min</td>\n",
       "      <td>action</td>\n",
       "      <td>In war-torn Eastern Europe, a world-weary grou...</td>\n",
       "      <td>[action]</td>\n",
       "    </tr>\n",
       "    <tr>\n",
       "      <th>9666</th>\n",
       "      <td>s9667</td>\n",
       "      <td>TV Show</td>\n",
       "      <td>Maradona: Blessed Dream</td>\n",
       "      <td>Unknown</td>\n",
       "      <td>Esteban Recagno, Ezequiel Stremiz, Luciano Vit...</td>\n",
       "      <td>2021</td>\n",
       "      <td>TV-MA</td>\n",
       "      <td>1 Season</td>\n",
       "      <td>drama, sports</td>\n",
       "      <td>The series tells the story of Diego Maradona, ...</td>\n",
       "      <td>[drama, sports]</td>\n",
       "    </tr>\n",
       "    <tr>\n",
       "      <th>9667</th>\n",
       "      <td>s9668</td>\n",
       "      <td>Movie</td>\n",
       "      <td>Harry Brown</td>\n",
       "      <td>Daniel Barber</td>\n",
       "      <td>Michael Caine, Emily Mortimer, Joseph Gilgun, ...</td>\n",
       "      <td>2010</td>\n",
       "      <td>R</td>\n",
       "      <td>103 min</td>\n",
       "      <td>action, drama, suspense</td>\n",
       "      <td>Harry Brown, starring two-time Academy Award w...</td>\n",
       "      <td>[action, drama, suspense]</td>\n",
       "    </tr>\n",
       "  </tbody>\n",
       "</table>\n",
       "<p>9668 rows × 11 columns</p>\n",
       "</div>"
      ],
      "text/plain": [
       "     show_id     type                    title         director  \\\n",
       "0         s1    Movie      The Grand Seduction     Don McKellar   \n",
       "1         s2    Movie     Take Care Good Night     Girish Joshi   \n",
       "2         s3    Movie     Secrets of Deception      Josh Webber   \n",
       "3         s4    Movie       Pink: Staying True   Sonia Anderson   \n",
       "4         s5    Movie            Monster Maker     Giles Foster   \n",
       "...      ...      ...                      ...              ...   \n",
       "9663   s9664    Movie      Pride Of The Bowery  Joseph H. Lewis   \n",
       "9664   s9665  TV Show            Planet Patrol          Unknown   \n",
       "9665   s9666    Movie                  Outpost     Steve Barker   \n",
       "9666   s9667  TV Show  Maradona: Blessed Dream          Unknown   \n",
       "9667   s9668    Movie              Harry Brown    Daniel Barber   \n",
       "\n",
       "                                                   cast  release_year rating  \\\n",
       "0        Brendan Gleeson, Taylor Kitsch, Gordon Pinsent          2014     NR   \n",
       "1      Mahesh Manjrekar, Abhay Mahajan, Sachin Khedekar          2018    13+   \n",
       "2     Tom Sizemore, Lorenzo Lamas, Robert LaSardo, R...          2017     NR   \n",
       "3     Interviews with: Pink, Adele, Beyoncé, Britney...          2014     NR   \n",
       "4     Harry Dean Stanton, Kieran O'Brien, George Cos...          1989     NR   \n",
       "...                                                 ...           ...    ...   \n",
       "9663                           Leo Gorcey, Bobby Jordan          1940     7+   \n",
       "9664  DICK VOSBURGH, RONNIE STEVENS, LIBBY MORRIS, M...          2018    13+   \n",
       "9665  Ray Stevenson, Julian Wadham, Richard Brake, M...          2008      R   \n",
       "9666  Esteban Recagno, Ezequiel Stremiz, Luciano Vit...          2021  TV-MA   \n",
       "9667  Michael Caine, Emily Mortimer, Joseph Gilgun, ...          2010      R   \n",
       "\n",
       "       duration                listed_in  \\\n",
       "0       113 min            comedy, drama   \n",
       "1       110 min     drama, international   \n",
       "2        74 min  action, drama, suspense   \n",
       "3        69 min              documentary   \n",
       "4        45 min           drama, fantasy   \n",
       "...         ...                      ...   \n",
       "9663     60 min                   comedy   \n",
       "9664  4 Seasons                 tv shows   \n",
       "9665     90 min                   action   \n",
       "9666   1 Season            drama, sports   \n",
       "9667    103 min  action, drama, suspense   \n",
       "\n",
       "                                            description  \\\n",
       "0     A small fishing village must procure a local d...   \n",
       "1     A Metro Family decides to fight a Cyber Crimin...   \n",
       "2     After a man discovers his wife is cheating on ...   \n",
       "3     Pink breaks the mold once again, bringing her ...   \n",
       "4     Teenage Matt Banting wants to work with a famo...   \n",
       "...                                                 ...   \n",
       "9663  New York City street principles get an East Si...   \n",
       "9664  This is Earth, 2100AD - and these are the adve...   \n",
       "9665  In war-torn Eastern Europe, a world-weary grou...   \n",
       "9666  The series tells the story of Diego Maradona, ...   \n",
       "9667  Harry Brown, starring two-time Academy Award w...   \n",
       "\n",
       "                listed_in_split  \n",
       "0               [comedy, drama]  \n",
       "1        [drama, international]  \n",
       "2     [action, drama, suspense]  \n",
       "3                 [documentary]  \n",
       "4              [drama, fantasy]  \n",
       "...                         ...  \n",
       "9663                   [comedy]  \n",
       "9664                 [tv shows]  \n",
       "9665                   [action]  \n",
       "9666            [drama, sports]  \n",
       "9667  [action, drama, suspense]  \n",
       "\n",
       "[9668 rows x 11 columns]"
      ]
     },
     "execution_count": 127,
     "metadata": {},
     "output_type": "execute_result"
    }
   ],
   "source": [
    "amz"
   ]
  },
  {
   "cell_type": "code",
   "execution_count": 128,
   "id": "21faf85d",
   "metadata": {},
   "outputs": [
    {
     "name": "stdout",
     "output_type": "stream",
     "text": [
      "listed_in_split\n",
      "drama               3687\n",
      "comedy              2099\n",
      "action              1657\n",
      "suspense            1501\n",
      "kids                1085\n",
      "documentary          993\n",
      "special interest     980\n",
      "horror               875\n",
      "romance              674\n",
      "animation            547\n",
      "Name: count, dtype: int64\n"
     ]
    }
   ],
   "source": [
    "# 3️⃣ Explode to count frequency of each genre\n",
    "genre_counts = amz['listed_in_split'].explode().value_counts()\n",
    "\n",
    "print(genre_counts.head(10))  # Top 10 most common genres\n"
   ]
  },
  {
   "cell_type": "code",
   "execution_count": 129,
   "id": "ad5a6696",
   "metadata": {},
   "outputs": [
    {
     "data": {
      "image/png": "[encoded data removed]",
      "text/plain": [
       "<Figure size 1200x600 with 1 Axes>"
      ]
     },
     "metadata": {},
     "output_type": "display_data"
    }
   ],
   "source": [
    "plt.figure(figsize=(12, 6))\n",
    "genre_counts.plot(kind='bar')\n",
    "plt.title(\"Genre Counts in Amazon Dataset\")\n",
    "plt.xlabel(\"Genre\")\n",
    "plt.ylabel(\"Number of Titles\")\n",
    "plt.xticks(rotation=45, ha='right')\n",
    "plt.tight_layout()\n",
    "plt.show()"
   ]
  },
  {
   "cell_type": "code",
   "execution_count": 130,
   "id": "433b85b0",
   "metadata": {},
   "outputs": [
    {
     "data": {
      "text/plain": [
       "0         113 min\n",
       "1         110 min\n",
       "2          74 min\n",
       "3          69 min\n",
       "4          45 min\n",
       "          ...    \n",
       "9663       60 min\n",
       "9664    4 Seasons\n",
       "9665       90 min\n",
       "9666     1 Season\n",
       "9667      103 min\n",
       "Name: duration, Length: 9668, dtype: object"
      ]
     },
     "execution_count": 130,
     "metadata": {},
     "output_type": "execute_result"
    }
   ],
   "source": [
    "amz['duration']"
   ]
  },
  {
   "cell_type": "code",
   "execution_count": 131,
   "id": "7a27897d",
   "metadata": {},
   "outputs": [
    {
     "data": {
      "text/plain": [
       "duration\n",
       "1 Season      1342\n",
       "2 Seasons      229\n",
       "90 min         223\n",
       "91 min         220\n",
       "92 min         203\n",
       "              ... \n",
       "21 Seasons       1\n",
       "485 min          1\n",
       "550 min          1\n",
       "181 min          1\n",
       "191 min          1\n",
       "Name: count, Length: 219, dtype: int64"
      ]
     },
     "execution_count": 131,
     "metadata": {},
     "output_type": "execute_result"
    }
   ],
   "source": [
    "amz['duration'].value_counts()"
   ]
  },
  {
   "cell_type": "code",
   "execution_count": 132,
   "id": "86b1b623",
   "metadata": {},
   "outputs": [],
   "source": [
    "amz['duration_num'] = amz['duration'].str.extract(r'(\\d+)').astype(float)\n",
    "# str.extract(r'(\\d+)') uses a regular expression to pull out only the numeric part of the string\n",
    "#astype(float) ensures the numbers are stored as numeric values, so we can do calculations."
   ]
  },
  {
   "cell_type": "code",
   "execution_count": 133,
   "id": "4815827e",
   "metadata": {},
   "outputs": [
    {
     "data": {
      "text/plain": [
       "0       113.0\n",
       "1       110.0\n",
       "2        74.0\n",
       "3        69.0\n",
       "4        45.0\n",
       "        ...  \n",
       "9663     60.0\n",
       "9664      4.0\n",
       "9665     90.0\n",
       "9666      1.0\n",
       "9667    103.0\n",
       "Name: duration_num, Length: 9668, dtype: float64"
      ]
     },
     "execution_count": 133,
     "metadata": {},
     "output_type": "execute_result"
    }
   ],
   "source": [
    "amz['duration_num']"
   ]
  },
  {
   "cell_type": "code",
   "execution_count": 134,
   "id": "4d5afefc",
   "metadata": {},
   "outputs": [
    {
     "data": {
      "text/plain": [
       "array(['m', 's'], dtype=object)"
      ]
     },
     "execution_count": 134,
     "metadata": {},
     "output_type": "execute_result"
    }
   ],
   "source": [
    "amz['duration_unit'] = amz['duration'].str.extract(r'([A-Za-z])').iloc[:, 0].str.lower()\n",
    "amz['duration_unit'].unique()"
   ]
  },
  {
   "cell_type": "code",
   "execution_count": 145,
   "id": "2382819a",
   "metadata": {},
   "outputs": [],
   "source": [
    "# Map 'm' → 'minutes' and 's' → 'seasons'\n",
    "amz['duration_unit'] = amz['duration_unit'].replace({'m': 'minutes', 's': 'seasons'})\n"
   ]
  },
  {
   "cell_type": "code",
   "execution_count": null,
   "id": "bc39e5fe",
   "metadata": {},
   "outputs": [],
   "source": [
    "# Convert 'minutes' to hours for better interpretability\n",
    "average_minutes_per_season = 450   # Assuming an average of 450 minutes per season"
   ]
  },
  {
   "cell_type": "code",
   "execution_count": 136,
   "id": "51584d9c",
   "metadata": {},
   "outputs": [],
   "source": [
    "# How can the 'duration' column be cleaned to separate numerical values from units (e.g., \"113 min\" or \"1 Season\"), and \n",
    "# should TV shows and movies be processed differently for uniformity?"
   ]
  },
  {
   "cell_type": "code",
   "execution_count": 139,
   "id": "4c3937e7",
   "metadata": {},
   "outputs": [],
   "source": [
    "# What methods can be used to detect and remove duplicate entries based on 'title' and 'release_year', \n",
    "# considering potential variations in formatting or partial matches?"
   ]
  },
  {
   "cell_type": "code",
   "execution_count": 140,
   "id": "518f1f5d",
   "metadata": {},
   "outputs": [],
   "source": [
    "# How should the 'cast' column be preprocessed to handle multiple actors (e.g., splitting comma-separated names) \n",
    "# for actor-based frequency or network analysis?"
   ]
  },
  {
   "cell_type": "code",
   "execution_count": 141,
   "id": "af2f829d",
   "metadata": {},
   "outputs": [],
   "source": [
    "# What techniques are appropriate for validating and cleaning the 'release_year' \n",
    "# column to ensure all values are valid integers within a reasonable historical range?"
   ]
  },
  {
   "cell_type": "code",
   "execution_count": 142,
   "id": "ed5aa1f9",
   "metadata": {},
   "outputs": [],
   "source": [
    "# How can the 'description' column be preprocessed for text analysis, such as removing special characters, \n",
    "# handling truncation indicators (e.g., \"...\"), or tokenizing for keyword extraction?"
   ]
  },
  {
   "cell_type": "code",
   "execution_count": 143,
   "id": "cc0fe47c",
   "metadata": {},
   "outputs": [],
   "source": [
    "# What preprocessing steps are needed to handle quoted strings in columns like 'title' or 'description' that may contain commas, to prevent parsing errors in CSV reading?\n"
   ]
  },
  {
   "cell_type": "code",
   "execution_count": 144,
   "id": "b59da626",
   "metadata": {},
   "outputs": [],
   "source": [
    "#What is the distribution of content types (Movie vs. TV Show) across different countries, \n",
    "# and how does this vary by release year?\n"
   ]
  }
 ],
 "metadata": {
  "kernelspec": {
   "display_name": "Learndata (3.11.13)",
   "language": "python",
   "name": "python3"
  },
  "language_info": {
   "codemirror_mode": {
    "name": "ipython",
    "version": 3
   },
   "file_extension": ".py",
   "mimetype": "text/x-python",
   "name": "python",
   "nbconvert_exporter": "python",
   "pygments_lexer": "ipython3",
   "version": "3.11.13"
  }
 },
 "nbformat": 4,
 "nbformat_minor": 5
}
