{
 "cells": [
  {
   "cell_type": "code",
   "execution_count": 1,
   "id": "b02b1324",
   "metadata": {},
   "outputs": [],
   "source": [
    "import pandas as pd \n",
    "import numpy as np\n",
    "import matplotlib.pyplot as plt"
   ]
  },
  {
   "cell_type": "code",
   "execution_count": 2,
   "id": "1ae8dfaa",
   "metadata": {},
   "outputs": [
    {
     "data": {
      "text/html": [
       "<div>\n",
       "<style scoped>\n",
       "    .dataframe tbody tr th:only-of-type {\n",
       "        vertical-align: middle;\n",
       "    }\n",
       "\n",
       "    .dataframe tbody tr th {\n",
       "        vertical-align: top;\n",
       "    }\n",
       "\n",
       "    .dataframe thead th {\n",
       "        text-align: right;\n",
       "    }\n",
       "</style>\n",
       "<table border=\"1\" class=\"dataframe\">\n",
       "  <thead>\n",
       "    <tr style=\"text-align: right;\">\n",
       "      <th></th>\n",
       "      <th>show_id</th>\n",
       "      <th>type</th>\n",
       "      <th>title</th>\n",
       "      <th>director</th>\n",
       "      <th>cast</th>\n",
       "      <th>country</th>\n",
       "      <th>date_added</th>\n",
       "      <th>release_year</th>\n",
       "      <th>rating</th>\n",
       "      <th>duration</th>\n",
       "      <th>listed_in</th>\n",
       "      <th>description</th>\n",
       "    </tr>\n",
       "  </thead>\n",
       "  <tbody>\n",
       "    <tr>\n",
       "      <th>0</th>\n",
       "      <td>s1</td>\n",
       "      <td>Movie</td>\n",
       "      <td>The Grand Seduction</td>\n",
       "      <td>Don McKellar</td>\n",
       "      <td>Brendan Gleeson, Taylor Kitsch, Gordon Pinsent</td>\n",
       "      <td>Canada</td>\n",
       "      <td>March 30, 2021</td>\n",
       "      <td>2014</td>\n",
       "      <td>NaN</td>\n",
       "      <td>113 min</td>\n",
       "      <td>Comedy, Drama</td>\n",
       "      <td>A small fishing village must procure a local d...</td>\n",
       "    </tr>\n",
       "    <tr>\n",
       "      <th>1</th>\n",
       "      <td>s2</td>\n",
       "      <td>Movie</td>\n",
       "      <td>Take Care Good Night</td>\n",
       "      <td>Girish Joshi</td>\n",
       "      <td>Mahesh Manjrekar, Abhay Mahajan, Sachin Khedekar</td>\n",
       "      <td>India</td>\n",
       "      <td>March 30, 2021</td>\n",
       "      <td>2018</td>\n",
       "      <td>13+</td>\n",
       "      <td>110 min</td>\n",
       "      <td>Drama, International</td>\n",
       "      <td>A Metro Family decides to fight a Cyber Crimin...</td>\n",
       "    </tr>\n",
       "    <tr>\n",
       "      <th>2</th>\n",
       "      <td>s3</td>\n",
       "      <td>Movie</td>\n",
       "      <td>Secrets of Deception</td>\n",
       "      <td>Josh Webber</td>\n",
       "      <td>Tom Sizemore, Lorenzo Lamas, Robert LaSardo, R...</td>\n",
       "      <td>United States</td>\n",
       "      <td>March 30, 2021</td>\n",
       "      <td>2017</td>\n",
       "      <td>NaN</td>\n",
       "      <td>74 min</td>\n",
       "      <td>Action, Drama, Suspense</td>\n",
       "      <td>After a man discovers his wife is cheating on ...</td>\n",
       "    </tr>\n",
       "    <tr>\n",
       "      <th>3</th>\n",
       "      <td>s4</td>\n",
       "      <td>Movie</td>\n",
       "      <td>Pink: Staying True</td>\n",
       "      <td>Sonia Anderson</td>\n",
       "      <td>Interviews with: Pink, Adele, Beyoncé, Britney...</td>\n",
       "      <td>United States</td>\n",
       "      <td>March 30, 2021</td>\n",
       "      <td>2014</td>\n",
       "      <td>NaN</td>\n",
       "      <td>69 min</td>\n",
       "      <td>Documentary</td>\n",
       "      <td>Pink breaks the mold once again, bringing her ...</td>\n",
       "    </tr>\n",
       "    <tr>\n",
       "      <th>4</th>\n",
       "      <td>s5</td>\n",
       "      <td>Movie</td>\n",
       "      <td>Monster Maker</td>\n",
       "      <td>Giles Foster</td>\n",
       "      <td>Harry Dean Stanton, Kieran O'Brien, George Cos...</td>\n",
       "      <td>United Kingdom</td>\n",
       "      <td>March 30, 2021</td>\n",
       "      <td>1989</td>\n",
       "      <td>NaN</td>\n",
       "      <td>45 min</td>\n",
       "      <td>Drama, Fantasy</td>\n",
       "      <td>Teenage Matt Banting wants to work with a famo...</td>\n",
       "    </tr>\n",
       "  </tbody>\n",
       "</table>\n",
       "</div>"
      ],
      "text/plain": [
       "  show_id   type                 title        director  \\\n",
       "0      s1  Movie   The Grand Seduction    Don McKellar   \n",
       "1      s2  Movie  Take Care Good Night    Girish Joshi   \n",
       "2      s3  Movie  Secrets of Deception     Josh Webber   \n",
       "3      s4  Movie    Pink: Staying True  Sonia Anderson   \n",
       "4      s5  Movie         Monster Maker    Giles Foster   \n",
       "\n",
       "                                                cast         country  \\\n",
       "0     Brendan Gleeson, Taylor Kitsch, Gordon Pinsent          Canada   \n",
       "1   Mahesh Manjrekar, Abhay Mahajan, Sachin Khedekar           India   \n",
       "2  Tom Sizemore, Lorenzo Lamas, Robert LaSardo, R...   United States   \n",
       "3  Interviews with: Pink, Adele, Beyoncé, Britney...   United States   \n",
       "4  Harry Dean Stanton, Kieran O'Brien, George Cos...  United Kingdom   \n",
       "\n",
       "       date_added  release_year rating duration                listed_in  \\\n",
       "0  March 30, 2021          2014    NaN  113 min            Comedy, Drama   \n",
       "1  March 30, 2021          2018    13+  110 min     Drama, International   \n",
       "2  March 30, 2021          2017    NaN   74 min  Action, Drama, Suspense   \n",
       "3  March 30, 2021          2014    NaN   69 min              Documentary   \n",
       "4  March 30, 2021          1989    NaN   45 min           Drama, Fantasy   \n",
       "\n",
       "                                         description  \n",
       "0  A small fishing village must procure a local d...  \n",
       "1  A Metro Family decides to fight a Cyber Crimin...  \n",
       "2  After a man discovers his wife is cheating on ...  \n",
       "3  Pink breaks the mold once again, bringing her ...  \n",
       "4  Teenage Matt Banting wants to work with a famo...  "
      ]
     },
     "execution_count": 2,
     "metadata": {},
     "output_type": "execute_result"
    }
   ],
   "source": [
    "amz = pd.read_csv('amazon_prime_titles.csv')\n",
    "amz.head()"
   ]
  },
  {
   "cell_type": "code",
   "execution_count": 3,
   "id": "84dcd3b8",
   "metadata": {},
   "outputs": [
    {
     "name": "stdout",
     "output_type": "stream",
     "text": [
      "<class 'pandas.core.frame.DataFrame'>\n",
      "RangeIndex: 9668 entries, 0 to 9667\n",
      "Data columns (total 12 columns):\n",
      " #   Column        Non-Null Count  Dtype \n",
      "---  ------        --------------  ----- \n",
      " 0   show_id       9668 non-null   object\n",
      " 1   type          9668 non-null   object\n",
      " 2   title         9668 non-null   object\n",
      " 3   director      7585 non-null   object\n",
      " 4   cast          8435 non-null   object\n",
      " 5   country       672 non-null    object\n",
      " 6   date_added    155 non-null    object\n",
      " 7   release_year  9668 non-null   int64 \n",
      " 8   rating        9331 non-null   object\n",
      " 9   duration      9668 non-null   object\n",
      " 10  listed_in     9668 non-null   object\n",
      " 11  description   9668 non-null   object\n",
      "dtypes: int64(1), object(11)\n",
      "memory usage: 906.5+ KB\n"
     ]
    }
   ],
   "source": [
    "amz.info()"
   ]
  },
  {
   "cell_type": "markdown",
   "id": "978786d4",
   "metadata": {},
   "source": [
    "## Director"
   ]
  },
  {
   "cell_type": "code",
   "execution_count": 54,
   "id": "08410a96",
   "metadata": {},
   "outputs": [
    {
     "data": {
      "text/plain": [
       "np.int64(2083)"
      ]
     },
     "execution_count": 54,
     "metadata": {},
     "output_type": "execute_result"
    }
   ],
   "source": [
    "# How should missing or empty values in columns like 'director', 'cast', 'country', and 'rating'\n",
    "#  be handled to ensure they do not skew category-based aggregations or comparisons?\n",
    "amz['director'].isnull().sum()"
   ]
  },
  {
   "cell_type": "code",
   "execution_count": 55,
   "id": "d6f9f864",
   "metadata": {},
   "outputs": [
    {
     "data": {
      "text/plain": [
       "Index([  20,   25,   33,   34,   70,   72,   74,   76,   77,   78,\n",
       "       ...\n",
       "       9559, 9564, 9586, 9612, 9622, 9636, 9637, 9645, 9647, 9658],\n",
       "      dtype='int64', length=1233)"
      ]
     },
     "execution_count": 55,
     "metadata": {},
     "output_type": "execute_result"
    }
   ],
   "source": [
    "amz[amz['cast'].isnull()].index"
   ]
  },
  {
   "cell_type": "code",
   "execution_count": 60,
   "id": "52e0c22b",
   "metadata": {},
   "outputs": [
    {
     "data": {
      "text/plain": [
       "show_id                                                       s21\n",
       "type                                                      TV Show\n",
       "title                                                  Zoboomafoo\n",
       "director                                                      NaN\n",
       "cast                                                          NaN\n",
       "country                                                       NaN\n",
       "date_added                                                    NaN\n",
       "release_year                                                 2001\n",
       "rating                                                       TV-Y\n",
       "duration                                                 1 Season\n",
       "listed_in                                                    Kids\n",
       "description     Chris and Martin Kratt bring their enthusiasm ...\n",
       "Name: 20, dtype: object"
      ]
     },
     "execution_count": 60,
     "metadata": {},
     "output_type": "execute_result"
    }
   ],
   "source": [
    "amz.iloc[20]\n"
   ]
  },
  {
   "cell_type": "code",
   "execution_count": 17,
   "id": "e0104355",
   "metadata": {},
   "outputs": [
    {
     "data": {
      "text/plain": [
       "Index([  20,   25,   33,   34,   70,   72,   74,   76,   77,   78,\n",
       "       ...\n",
       "       9559, 9564, 9586, 9612, 9622, 9636, 9637, 9645, 9647, 9658],\n",
       "      dtype='int64', length=1233)"
      ]
     },
     "execution_count": 17,
     "metadata": {},
     "output_type": "execute_result"
    }
   ],
   "source": [
    "amz[amz['cast'].isnull()].index"
   ]
  },
  {
   "cell_type": "code",
   "execution_count": 13,
   "id": "b5f09e11",
   "metadata": {},
   "outputs": [
    {
     "data": {
      "text/plain": [
       "86"
      ]
     },
     "execution_count": 13,
     "metadata": {},
     "output_type": "execute_result"
    }
   ],
   "source": [
    "amz['country'].nunique()"
   ]
  },
  {
   "cell_type": "markdown",
   "id": "09148149",
   "metadata": {},
   "source": [
    "### CAST\n"
   ]
  },
  {
   "cell_type": "code",
   "execution_count": 19,
   "id": "75cecd2f",
   "metadata": {},
   "outputs": [
    {
     "name": "stdout",
     "output_type": "stream",
     "text": [
      "   show_id     type                             title            director  \\\n",
      "20     s21  TV Show                        Zoboomafoo                 NaN   \n",
      "25     s26    Movie            Zambezi: Force of Life  Dr. Rudolf Lammers   \n",
      "33     s34    Movie   Young Love (at the Sun Factory)                 NaN   \n",
      "34     s35    Movie   Young Love (at Bowery Ballroom)                 NaN   \n",
      "70     s71    Movie  World Inferno Friendship Society        Baeble Music   \n",
      "\n",
      "   cast country date_added  release_year rating  duration  \\\n",
      "20  NaN     NaN        NaN          2001   TV-Y  1 Season   \n",
      "25  NaN     NaN        NaN          2005    ALL    50 min   \n",
      "33  NaN     NaN        NaN          2007     NR    36 min   \n",
      "34  NaN     NaN        NaN          2007     NR    37 min   \n",
      "70  NaN     NaN        NaN          2007     NR    40 min   \n",
      "\n",
      "                    listed_in  \\\n",
      "20                       Kids   \n",
      "25                Documentary   \n",
      "33  Music Videos and Concerts   \n",
      "34  Music Videos and Concerts   \n",
      "70  Music Videos and Concerts   \n",
      "\n",
      "                                          description  \n",
      "20  Chris and Martin Kratt bring their enthusiasm ...  \n",
      "25  The Zambezi river is the fourth-longest river ...  \n",
      "33  Young Love celebrates the release of \"Too Youn...  \n",
      "34  Young Love returns to Baeble's silver screen w...  \n",
      "70  The circus comes to town with this performance...  \n"
     ]
    }
   ],
   "source": [
    "missing_rows = amz[amz['cast'].isnull()]\n",
    "print(missing_rows.head())\n"
   ]
  },
  {
   "cell_type": "markdown",
   "id": "d15645fa",
   "metadata": {},
   "source": [
    "## Rating"
   ]
  },
  {
   "cell_type": "code",
   "execution_count": 23,
   "id": "1da6314a",
   "metadata": {},
   "outputs": [
    {
     "data": {
      "text/plain": [
       "rating\n",
       "13+         2117\n",
       "16+         1547\n",
       "ALL         1268\n",
       "18+         1243\n",
       "R           1010\n",
       "PG-13        393\n",
       "7+           385\n",
       "PG           253\n",
       "NR           223\n",
       "TV-14        208\n",
       "TV-PG        169\n",
       "TV-NR        105\n",
       "G             93\n",
       "TV-G          81\n",
       "TV-MA         77\n",
       "TV-Y          74\n",
       "TV-Y7         39\n",
       "UNRATED       33\n",
       "NC-17          3\n",
       "AGES_18_       3\n",
       "NOT_RATE       3\n",
       "AGES_16_       2\n",
       "16             1\n",
       "ALL_AGES       1\n",
       "Name: count, dtype: int64"
      ]
     },
     "execution_count": 23,
     "metadata": {},
     "output_type": "execute_result"
    }
   ],
   "source": [
    "amz['rating'].value_counts()"
   ]
  },
  {
   "cell_type": "code",
   "execution_count": 30,
   "id": "635987a2",
   "metadata": {},
   "outputs": [],
   "source": [
    "rating_map = {'AGES_16': \"16+\",\n",
    "              \"16\":\"16+\",\n",
    "              \"AGES_16_\":\"16+\",\n",
    "              'AGES_18_':\"18+\",\n",
    "              \"ALL_AGES\":\"ALL\",\n",
    "              \"NOT_RATE\":\"NR\",\n",
    "              \"UNRATED\":\"NR\",\n",
    "              \"NC-17\":\"17+\",\n",
    "              \"TV-NR\":\"NR\"\n",
    "}\n",
    "\n",
    "amz['rating'] = amz['rating'].replace(rating_map)"
   ]
  },
  {
   "cell_type": "code",
   "execution_count": 31,
   "id": "baa1e66d",
   "metadata": {},
   "outputs": [
    {
     "data": {
      "text/plain": [
       "array([nan, '13+', 'ALL', '18+', 'R', 'TV-Y', 'TV-Y7', 'NR', '16+',\n",
       "       'TV-PG', '7+', 'TV-14', 'TV-G', 'PG-13', 'TV-MA', 'G', 'PG', '17+'],\n",
       "      dtype=object)"
      ]
     },
     "execution_count": 31,
     "metadata": {},
     "output_type": "execute_result"
    }
   ],
   "source": [
    "amz['rating'].unique()"
   ]
  },
  {
   "cell_type": "code",
   "execution_count": 33,
   "id": "98be6c80",
   "metadata": {},
   "outputs": [],
   "source": [
    "amz['rating'].fillna('NR', inplace=True)"
   ]
  },
  {
   "cell_type": "code",
   "execution_count": 34,
   "id": "3efdfe28",
   "metadata": {},
   "outputs": [
    {
     "name": "stdout",
     "output_type": "stream",
     "text": [
      "show_id          0.000000\n",
      "type             0.000000\n",
      "title            0.000000\n",
      "director        21.545304\n",
      "cast            12.753413\n",
      "country         93.049235\n",
      "date_added      98.396773\n",
      "release_year     0.000000\n",
      "rating           0.000000\n",
      "duration         0.000000\n",
      "listed_in        0.000000\n",
      "description      0.000000\n",
      "dtype: float64\n"
     ]
    }
   ],
   "source": [
    "# Calculate missing values count and percentage for each column\n",
    "missing_percent = (amz.isnull().sum() / len(amz)) * 100\n",
    "print(missing_percent)\n"
   ]
  },
  {
   "cell_type": "code",
   "execution_count": null,
   "id": "087a28e5",
   "metadata": {},
   "outputs": [],
   "source": [
    "# What steps are required to standardize the 'date_added' column, converting string dates (e.g., \"March 30, 2021\") \n",
    "# into a consistent datetime format for time-series analysis?"
   ]
  },
  {
   "cell_type": "code",
   "execution_count": null,
   "id": "51584d9c",
   "metadata": {},
   "outputs": [],
   "source": [
    "# How can the 'duration' column be cleaned to separate numerical values from units (e.g., \"113 min\" or \"1 Season\"), and \n",
    "# should TV shows and movies be processed differently for uniformity?"
   ]
  },
  {
   "cell_type": "code",
   "execution_count": null,
   "id": "19b2c20d",
   "metadata": {},
   "outputs": [],
   "source": [
    "# What approach should be taken to normalize the 'listed_in' column, \n",
    "# which contains multiple genres or categories (e.g., \"Comedy, Drama\"), for easier splitting and multi-label analysis?"
   ]
  },
  {
   "cell_type": "code",
   "execution_count": null,
   "id": "572289c9",
   "metadata": {},
   "outputs": [],
   "source": [
    "# How should inconsistencies in the 'rating' column (e.g., \"13+\", \"ALL\", \"PG-13\", \"NR\") \n",
    "# be addressed to create standardized age rating categories?"
   ]
  },
  {
   "cell_type": "code",
   "execution_count": null,
   "id": "4c3937e7",
   "metadata": {},
   "outputs": [],
   "source": [
    "# What methods can be used to detect and remove duplicate entries based on 'title' and 'release_year', \n",
    "# considering potential variations in formatting or partial matches?"
   ]
  },
  {
   "cell_type": "code",
   "execution_count": null,
   "id": "518f1f5d",
   "metadata": {},
   "outputs": [],
   "source": [
    "# How should the 'cast' column be preprocessed to handle multiple actors (e.g., splitting comma-separated names) \n",
    "# for actor-based frequency or network analysis?"
   ]
  },
  {
   "cell_type": "code",
   "execution_count": null,
   "id": "af2f829d",
   "metadata": {},
   "outputs": [],
   "source": [
    "# What techniques are appropriate for validating and cleaning the 'release_year' \n",
    "# column to ensure all values are valid integers within a reasonable historical range?"
   ]
  },
  {
   "cell_type": "code",
   "execution_count": null,
   "id": "ed5aa1f9",
   "metadata": {},
   "outputs": [],
   "source": [
    "# How can the 'description' column be preprocessed for text analysis, such as removing special characters, \n",
    "# handling truncation indicators (e.g., \"...\"), or tokenizing for keyword extraction?"
   ]
  },
  {
   "cell_type": "code",
   "execution_count": null,
   "id": "cc0fe47c",
   "metadata": {},
   "outputs": [],
   "source": [
    "# What preprocessing steps are needed to handle quoted strings in columns like 'title' or 'description' that may contain commas, to prevent parsing errors in CSV reading?\n"
   ]
  },
  {
   "cell_type": "code",
   "execution_count": null,
   "id": "b59da626",
   "metadata": {},
   "outputs": [],
   "source": [
    "#What is the distribution of content types (Movie vs. TV Show) across different countries, \n",
    "# and how does this vary by release year?\n"
   ]
  }
 ],
 "metadata": {
  "kernelspec": {
   "display_name": "Learndata (3.11.13)",
   "language": "python",
   "name": "python3"
  },
  "language_info": {
   "codemirror_mode": {
    "name": "ipython",
    "version": 3
   },
   "file_extension": ".py",
   "mimetype": "text/x-python",
   "name": "python",
   "nbconvert_exporter": "python",
   "pygments_lexer": "ipython3",
   "version": "3.11.13"
  }
 },
 "nbformat": 4,
 "nbformat_minor": 5
}
